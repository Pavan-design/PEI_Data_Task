{
 "cells": [
  {
   "cell_type": "code",
   "execution_count": 8,
   "id": "0540720e",
   "metadata": {},
   "outputs": [
    {
     "name": "stdout",
     "output_type": "stream",
     "text": [
      "   Customer_ID    First     Last  Age Country\n",
      "0            1   Joseph     Rice   43     USA\n",
      "1            2     Gary    Moore   71     USA\n",
      "2            3     John   Walker   44      UK\n",
      "3            4     Eric   Carter   38      UK\n",
      "4            5  William  Jackson   58     UAE\n",
      "<class 'pandas.core.frame.DataFrame'>\n",
      "RangeIndex: 250 entries, 0 to 249\n",
      "Data columns (total 5 columns):\n",
      " #   Column       Non-Null Count  Dtype \n",
      "---  ------       --------------  ----- \n",
      " 0   Customer_ID  250 non-null    int64 \n",
      " 1   First        250 non-null    object\n",
      " 2   Last         250 non-null    object\n",
      " 3   Age          250 non-null    int64 \n",
      " 4   Country      250 non-null    object\n",
      "dtypes: int64(2), object(3)\n",
      "memory usage: 9.9+ KB\n",
      "None\n",
      "Customer_ID    0\n",
      "First          0\n",
      "Last           0\n",
      "Age            0\n",
      "Country        0\n",
      "dtype: int64\n",
      "Empty DataFrame\n",
      "Columns: [Customer_ID, First, Last, Age, Country]\n",
      "Index: []\n"
     ]
    }
   ],
   "source": [
    "##Data Analysis: PEI Case study\n",
    "\n",
    "import pandas as pd\n",
    "\n",
    "#Load Customer Data for Analysis\n",
    "customers_df = pd.read_excel(\"Customer.xls\")\n",
    "print(customers_df.head())\n",
    "print(customers_df.info())\n",
    "\n",
    "# Checking for the duplicates in  Customer_id's\n",
    "duplicate_customers = customers_df[customers_df['Customer_ID'].duplicated()]\n",
    "\n",
    "# Check for missing values in Customers data\n",
    "print(customers_df.isnull().sum())\n",
    "\n",
    "# Filling missing values with a default value for Country column\n",
    "customers_df.fillna({'Country': 'Unknown'}, inplace=True)\n",
    "\n",
    "#checking the Customers Dataframe for customers with Age > 120\n",
    "invalid_ages = customers_df[~customers_df['Age'].between(0, 120)]\n",
    "\n",
    "# Check if negative values are present in the Age column\n",
    "negative_ages = customers_df[customers_df['Age'] < 0]\n",
    "print(negative_ages)"
   ]
  },
  {
   "cell_type": "code",
   "execution_count": 10,
   "id": "0effa491",
   "metadata": {},
   "outputs": [
    {
     "name": "stdout",
     "output_type": "stream",
     "text": [
      "   Order_ID      Item  Amount  Customer_ID\n",
      "0         1  Keyboard     400          139\n",
      "1         2     Mouse     300          250\n",
      "2         3   Monitor   12000          239\n",
      "3         4  Keyboard     400          153\n",
      "4         5  Mousepad     250          153\n",
      "<class 'pandas.core.frame.DataFrame'>\n",
      "RangeIndex: 250 entries, 0 to 249\n",
      "Data columns (total 4 columns):\n",
      " #   Column       Non-Null Count  Dtype \n",
      "---  ------       --------------  ----- \n",
      " 0   Order_ID     250 non-null    int64 \n",
      " 1   Item         250 non-null    object\n",
      " 2   Amount       250 non-null    int64 \n",
      " 3   Customer_ID  250 non-null    int64 \n",
      "dtypes: int64(3), object(1)\n",
      "memory usage: 7.9+ KB\n",
      "None\n",
      "Index(['Order_ID', 'Item', 'Amount', 'Customer_ID'], dtype='object')\n",
      "Order_ID       0\n",
      "Item           0\n",
      "Amount         0\n",
      "Customer_ID    0\n",
      "dtype: int64\n",
      "Empty DataFrame\n",
      "Columns: [Order_ID, Item, Amount, Customer_ID]\n",
      "Index: []\n"
     ]
    }
   ],
   "source": [
    "orders_df = pd.read_csv('Order.csv')\n",
    "print(orders_df.head())\n",
    "print(orders_df.info())\n",
    "print(orders_df.columns)\n",
    "\n",
    "\n",
    "# Checking for the duplicates in  Order_id's\n",
    "duplicate_Orders = orders_df[orders_df['Order_ID'].duplicated()]\n",
    "\n",
    "# Checking for missing values in Orders data\n",
    "print(orders_df.isnull().sum())\n",
    "\n",
    "orders_df.fillna({ 'Amount': 0.0}, inplace=True)\n",
    "\n",
    "# Check if there are any negative Amount \n",
    "negative_amounts = orders_df[orders_df['Amount'] < 0]\n",
    "print(negative_amounts)\n"
   ]
  },
  {
   "cell_type": "code",
   "execution_count": 11,
   "id": "3b9acb0d",
   "metadata": {},
   "outputs": [
    {
     "name": "stdout",
     "output_type": "stream",
     "text": [
      "   Shipping_ID     Status  Customer_ID\n",
      "0            1    Pending          173\n",
      "1            2    Pending          155\n",
      "2            3  Delivered          242\n",
      "3            4    Pending          223\n",
      "4            5  Delivered           72\n",
      "<class 'pandas.core.frame.DataFrame'>\n",
      "RangeIndex: 250 entries, 0 to 249\n",
      "Data columns (total 3 columns):\n",
      " #   Column       Non-Null Count  Dtype \n",
      "---  ------       --------------  ----- \n",
      " 0   Shipping_ID  250 non-null    int64 \n",
      " 1   Status       250 non-null    object\n",
      " 2   Customer_ID  250 non-null    int64 \n",
      "dtypes: int64(2), object(1)\n",
      "memory usage: 6.0+ KB\n",
      "None\n",
      "Shipping_ID    0\n",
      "Status         0\n",
      "Customer_ID    0\n",
      "dtype: int64\n"
     ]
    }
   ],
   "source": [
    "# Load Shippings Data in json format and normalise it to Analyse the Data \n",
    "import json\n",
    "with open('Shipping.json') as f:\n",
    "    shippings_data = json.load(f)\n",
    "shippings_df = pd.json_normalize(shippings_data)\n",
    "print(shippings_df.head())\n",
    "print(shippings_df.info())\n",
    "\n",
    "# Checking for the duplicates in Shipping_ids\n",
    "duplicate_Shippings = shippings_df[shippings_df['Shipping_ID'].duplicated()]\n",
    "\n",
    "# Check for missing values in Shippings data\n",
    "print(shippings_df.isnull().sum())\n",
    "\n",
    "shippings_df.fillna({'Status': 'Unknown'}, inplace=True)\n",
    "\n",
    "\n",
    "#for ease of working..convert the json file to CSV\n",
    "with open('Shipping.json', 'r') as json_file:\n",
    "   json_data = json.load(json_file)\n",
    "df = pd.json_normalize(json_data)\n",
    "df.to_csv('Shipping.csv', index=False)\n",
    "\n",
    "\n"
   ]
  },
  {
   "cell_type": "code",
   "execution_count": 12,
   "id": "a39494dc",
   "metadata": {},
   "outputs": [
    {
     "name": "stdout",
     "output_type": "stream",
     "text": [
      "Empty DataFrame\n",
      "Columns: [Order_ID, Item, Amount, Customer_ID]\n",
      "Index: []\n",
      "Empty DataFrame\n",
      "Columns: [Shipping_ID, Status, Customer_ID]\n",
      "Index: []\n"
     ]
    }
   ],
   "source": [
    "# checking if  all Customer_id's in Orders data exist in Customers\n",
    "missing_customers = orders_df[~orders_df['Customer_ID'].isin(customers_df['Customer_ID'])]\n",
    "print(missing_customers)\n",
    "# checking for all the Customer_ids in Shippings exist in Customers\n",
    "missing_customers_shipping = shippings_df[~shippings_df['Customer_ID'].isin(customers_df['Customer_ID'])]\n",
    "print(missing_customers_shipping)\n"
   ]
  },
  {
   "cell_type": "code",
   "execution_count": null,
   "id": "fde623ca",
   "metadata": {},
   "outputs": [],
   "source": [
    "#1.the total amount spent and the country for the Pending delivery status for each country\n"
   ]
  },
  {
   "cell_type": "code",
   "execution_count": 13,
   "id": "7b565a2d",
   "metadata": {},
   "outputs": [
    {
     "name": "stdout",
     "output_type": "stream",
     "text": [
      "  Country  Amount\n",
      "0     UAE   49950\n",
      "1      UK  244350\n",
      "2     USA  238200\n",
      "  Country  Pending_Delivery_Count\n",
      "0     UAE                      39\n",
      "1      UK                      59\n",
      "2     USA                      52\n",
      "  Country  Amount  Pending_Delivery_Count\n",
      "0     UAE   49950                      39\n",
      "1      UK  244350                      59\n",
      "2     USA  238200                      52\n"
     ]
    }
   ],
   "source": [
    "\n",
    "# Merge Orders and Shippings Data\n",
    "merged_customers_orders_shipping = pd.merge(customers_df,orders_df,on='Customer_ID', how='inner')\n",
    "Amount_spent_by_country=merged_customers_orders_shipping.groupby('Country')['Amount'].sum().reset_index()\n",
    "print(Amount_spent_by_country)\n",
    "\n",
    "#Merge Customers and Shipping\n",
    "merged_customers_shipping=pd.merge(customers_df,shippings_df,on='Customer_ID', how='inner')\n",
    "#Filtering where status is Pending\n",
    "pending_deliveries = merged_customers_shipping[merged_customers_shipping['Status'] == 'Pending']\n",
    "#Grouping by country \n",
    "Country_Pending_Delivery_count = pending_deliveries.groupby('Country')['Status'].count().reset_index()\n",
    "#renaming Columns foir better Understanding\n",
    "Country_Pending_Delivery_count=Country_Pending_Delivery_count.rename(columns={'Status':'Pending_Delivery_Count'})\n",
    "print(Country_Pending_Delivery_count)\n",
    "\n",
    "Final_Df=pd.merge(Amount_spent_by_country,Country_Pending_Delivery_count,on='Country',how='inner')\n",
    "\n",
    "print(Final_Df)"
   ]
  },
  {
   "cell_type": "code",
   "execution_count": null,
   "id": "8031ebd6",
   "metadata": {},
   "outputs": [],
   "source": [
    "#2.the total number of transactions, total quantity sold, and total amount spent for each customer, along with the product details.\n"
   ]
  },
  {
   "cell_type": "code",
   "execution_count": 15,
   "id": "0db06a1a",
   "metadata": {},
   "outputs": [
    {
     "name": "stdout",
     "output_type": "stream",
     "text": [
      "Index(['Customer_ID', 'Order_ID', 'Amount'], dtype='object')\n",
      "   Customer_ID                           Items_list\n",
      "0            4                             Mousepad\n",
      "1            5                              DDR RAM\n",
      "2            8  Mousepad, DDR RAM, Webcam, Mousepad\n",
      "3           10                             Keyboard\n",
      "4           12                             Harddisk\n",
      "   Customer_ID  total_transactions  total_amount_spent  \\\n",
      "0            4                   1                 200   \n",
      "1            5                   1                1500   \n",
      "2            8                   4                2300   \n",
      "3           10                   1                 400   \n",
      "4           12                   1                5000   \n",
      "\n",
      "                            Items_list         Full Name  \n",
      "0                             Mousepad       Eric Carter  \n",
      "1                              DDR RAM   William Jackson  \n",
      "2  Mousepad, DDR RAM, Webcam, Mousepad  Jason Montgomery  \n",
      "3                             Keyboard    Darrell Dillon  \n",
      "4                             Harddisk     Jodi Gonzalez  \n",
      "Index(['Customer_ID', 'total_transactions', 'total_amount_spent', 'Items_list',\n",
      "       'Full Name'],\n",
      "      dtype='object')\n"
     ]
    }
   ],
   "source": [
    "\n",
    "# Group by Customer_ID and aggregate the required information\n",
    "customer_summary = orders_df.groupby('Customer_ID').agg({'Order_ID': 'count','Amount': 'sum'}).reset_index()\n",
    "\n",
    "print(customer_summary.columns)\n",
    "\n",
    "customer_summary = customer_summary.rename(columns={'Order_ID': 'total_transactions', 'Amount': 'total_amount_spent'})\n",
    "\n",
    "\n",
    "# Merge with customer information\n",
    "customer_summary = pd.merge(customer_summary, customers_df, on='Customer_ID', how='inner')\n",
    "\n",
    "# Collecting product details for each customer as a list\n",
    "product_details = orders_df.groupby('Customer_ID')['Item'].apply(', '.join).reset_index()\n",
    "product_details.columns\n",
    "product_details=product_details.rename(columns={'Item':'Items_list'})\n",
    "print(product_details.head())\n",
    "\n",
    "\n",
    "customer_summary = pd.merge(customer_summary, product_details, on='Customer_ID', how='inner')\n",
    "customer_summary['Full Name']=customer_summary['First']+' '+customer_summary['Last']\n",
    "customer_summary.columns\n",
    "customer_summary = customer_summary.drop(columns=['First', 'Last','Country','Age'])\n",
    "print(customer_summary.head())\n",
    "print(customer_summary.columns)\n"
   ]
  },
  {
   "cell_type": "code",
   "execution_count": null,
   "id": "79158bac",
   "metadata": {},
   "outputs": [],
   "source": [
    "#3.the maximum product purchased for each country."
   ]
  },
  {
   "cell_type": "code",
   "execution_count": 16,
   "id": "958b982d",
   "metadata": {},
   "outputs": [
    {
     "name": "stdout",
     "output_type": "stream",
     "text": [
      "   Order_ID      Item  Amount  Customer_ID\n",
      "0         1  Keyboard     400          139\n",
      "1         2     Mouse     300          250\n",
      "2         3   Monitor   12000          239\n",
      "3         4  Keyboard     400          153\n",
      "4         5  Mousepad     250          153\n",
      "   Order_ID      Item  Amount  Customer_ID Country\n",
      "0         1  Keyboard     400          139      UK\n",
      "1         2     Mouse     300          250     USA\n",
      "2         3   Monitor   12000          239      UK\n",
      "3       211  Keyboard     400          239      UK\n",
      "4         4  Keyboard     400          153      UK\n",
      "Index(['Country', 'Item', 'Amount'], dtype='object')\n",
      "  Country      Item  total_amount\n",
      "0     UAE  Harddisk         20000\n",
      "1      UK   Monitor        156000\n",
      "2     USA   Monitor        132000\n"
     ]
    }
   ],
   "source": [
    "\n",
    "# Merge Orders with Customers to get the Country information\n",
    "print(orders_df.head())\n",
    "customers_df.head()\n",
    "orders_with_customers = pd.merge(orders_df, customers_df[['Customer_ID', 'Country']], on='Customer_ID', how='inner')\n",
    "print(orders_with_customers.head())\n",
    "\n",
    "# Group by Country and Item and calculate the total quantity sold for each product in each country\n",
    "product_quantity = orders_with_customers.groupby(['Country', 'Item']).agg({'Amount': 'sum'}).reset_index()\n",
    "print(product_quantity.columns) #checking column names\n",
    "product_quantity=product_quantity.rename(columns={'Amount':'total_amount'})\n",
    "\n",
    "# Identify the maximum product purchased for each country\n",
    "idx = product_quantity.groupby('Country')['total_amount'].idxmax()\n",
    "max_product_per_country = product_quantity.loc[idx].reset_index(drop=True)\n",
    "\n",
    "print(max_product_per_country)\n"
   ]
  },
  {
   "cell_type": "code",
   "execution_count": null,
   "id": "0c20cfea",
   "metadata": {},
   "outputs": [],
   "source": [
    "#4.the most purchased product based on the age category less than 30 and above 30."
   ]
  },
  {
   "cell_type": "code",
   "execution_count": 17,
   "id": "72e65344",
   "metadata": {
    "scrolled": false
   },
   "outputs": [
    {
     "name": "stdout",
     "output_type": "stream",
     "text": [
      "Index(['AgeCategory', 'Item', 'Order_ID'], dtype='object')\n",
      "   AgeCategory      Item  Order_count\n",
      "6          <30  Mousepad           17\n",
      "3          <30  Keyboard           15\n",
      "7          <30    Webcam            9\n",
      "0          <30   DDR RAM            8\n",
      "4          <30   Monitor            8\n",
      "2          <30   Headset            7\n",
      "5          <30     Mouse            7\n",
      "1          <30  Harddisk            5\n",
      "11        >=30  Keyboard           35\n",
      "14        >=30  Mousepad           33\n",
      "9         >=30  Harddisk           20\n",
      "10        >=30   Headset           18\n",
      "13        >=30     Mouse           18\n",
      "8         >=30   DDR RAM           17\n",
      "12        >=30   Monitor           17\n",
      "15        >=30    Webcam           16\n",
      "  AgeCategory      Item  Order_count\n",
      "0         <30  Mousepad           17\n",
      "1        >=30  Keyboard           35\n"
     ]
    }
   ],
   "source": [
    "\n",
    "# Create\\ing age categories <30 and 30 or above\n",
    "customers_df['AgeCategory'] = customers_df['Age'].apply(lambda x: '<30' if x < 30 else '>=30')\n",
    "\n",
    "# Merging Orders with Customers including AgeCategory\n",
    "orders_with_age_category = pd.merge(orders_df, customers_df[['Customer_ID', 'AgeCategory']], on='Customer_ID', how='inner')\n",
    "\n",
    "# Group by AgeCategory and Item and calculate the total quantity sold for each product in each age category\n",
    "\n",
    "product_quantity_age_cat= orders_with_age_category.groupby(['AgeCategory', 'Item']).agg({'Order_ID':'count'}).reset_index()\n",
    "print(product_quantity_age_cat.columns)\n",
    "#rENAMING Columns\n",
    "product_quantity_age_cat=product_quantity_age_cat.rename(columns={'Order_ID':'Order_count'})\n",
    "\n",
    "sorted_product_quantity = product_quantity_age_cat.sort_values(by=['AgeCategory', 'Order_count'], ascending=[True, False])\n",
    "print(sorted_product_quantity)\n",
    "max_product_per_age_category = sorted_product_quantity.drop_duplicates(subset=['AgeCategory'], keep='first').reset_index(drop=True)\n",
    "\n",
    "print(max_product_per_age_category)"
   ]
  },
  {
   "cell_type": "code",
   "execution_count": null,
   "id": "48f1028c",
   "metadata": {},
   "outputs": [],
   "source": [
    "# Group by Country and calculate the total number of transactions and total amount spent"
   ]
  },
  {
   "cell_type": "code",
   "execution_count": 18,
   "id": "3757c3cf",
   "metadata": {},
   "outputs": [
    {
     "name": "stdout",
     "output_type": "stream",
     "text": [
      "(3, 3)\n",
      "Country                 UAE\n",
      "total_transactions       40\n",
      "total_amount_spent    49950\n",
      "Name: 0, dtype: object\n",
      "Country                 UAE\n",
      "total_transactions       40\n",
      "total_amount_spent    49950\n",
      "Name: 0, dtype: object\n"
     ]
    }
   ],
   "source": [
    "\n",
    "country_summary = orders_with_customers.groupby('Country').agg(total_transactions=('Order_ID', 'count'), total_amount_spent=('Amount', 'sum')\n",
    ").reset_index()\n",
    "\n",
    "print(country_summary.shape)\n",
    "\n",
    "\n",
    "min_transactions_country = country_summary.sort_values(by='total_transactions').iloc[0]\n",
    "print(min_transactions_country)\n",
    "\n",
    "min_sales_country = country_summary.sort_values(by='total_amount_spent').iloc[0]\n",
    "print(min_sales_country)\n"
   ]
  },
  {
   "cell_type": "code",
   "execution_count": null,
   "id": "4f7c012b",
   "metadata": {},
   "outputs": [],
   "source": []
  }
 ],
 "metadata": {
  "kernelspec": {
   "display_name": "Python 3",
   "language": "python",
   "name": "python3"
  },
  "language_info": {
   "codemirror_mode": {
    "name": "ipython",
    "version": 3
   },
   "file_extension": ".py",
   "mimetype": "text/x-python",
   "name": "python",
   "nbconvert_exporter": "python",
   "pygments_lexer": "ipython3",
   "version": "3.8.8"
  }
 },
 "nbformat": 4,
 "nbformat_minor": 5
}
